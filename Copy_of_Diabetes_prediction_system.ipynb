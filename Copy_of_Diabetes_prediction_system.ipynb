{
  "cells": [
    {
      "cell_type": "code",
      "execution_count": null,
      "metadata": {
        "dotnet_interactive": {
          "language": "csharp"
        },
        "polyglot_notebook": {
          "kernelName": "csharp"
        }
      },
      "outputs": [],
      "source": [
        "import numpy as np\n",
        "import pandas as pd\n",
        "from sklearn.model_selection import train_test_split\n",
        "from sklearn.linear_model import LogisticRegression\n",
        "from sklearn.metrics import accuracy_score"
      ]
    },
    {
      "cell_type": "code",
      "execution_count": null,
      "metadata": {
        "colab": {
          "base_uri": "https://localhost:8080/"
        },
        "id": "Nf2PjUP_1SRa",
        "outputId": "25f324f1-f0a2-4ef8-cdf1-976a345ff437"
      },
      "outputs": [],
      "source": [
        "file_path=('H:\\ICBT\\FINAL_PROJECT\\Diabetes Prediction using machine learning-FINAL PROJECT\\Project\\diabetes.csv')\n",
        "diabetes_data=pd.read_csv(file_path)"
      ]
    },
    {
      "cell_type": "code",
      "execution_count": null,
      "metadata": {
        "colab": {
          "base_uri": "https://localhost:8080/"
        },
        "id": "nT1JpLZa1s1e",
        "outputId": "53cfb98d-e38d-45ce-b575-0115c1e4e799"
      },
      "outputs": [],
      "source": [
        "diabetes_data.info()"
      ]
    },
    {
      "cell_type": "code",
      "execution_count": null,
      "metadata": {
        "colab": {
          "base_uri": "https://localhost:8080/"
        },
        "id": "J6uRTi6W18T-",
        "outputId": "fee700c7-3d4f-4507-cd7a-41443f1714f9"
      },
      "outputs": [],
      "source": [
        "diabetes_data.isnull().sum()"
      ]
    },
    {
      "cell_type": "code",
      "execution_count": null,
      "metadata": {
        "colab": {
          "base_uri": "https://localhost:8080/",
          "height": 300
        },
        "id": "phTo31NT3I9O",
        "outputId": "9c10dbac-5dbc-4509-b198-bfa397fd6a1b"
      },
      "outputs": [],
      "source": [
        "diabetes_data.describe()"
      ]
    },
    {
      "cell_type": "code",
      "execution_count": null,
      "metadata": {
        "colab": {
          "base_uri": "https://localhost:8080/"
        },
        "id": "HaOSzTBN3cnu",
        "outputId": "e9c623c4-e1e2-4eb3-d4fb-80f80e7c413e"
      },
      "outputs": [],
      "source": [
        "diabetes_data['Outcome'].value_counts()"
      ]
    },
    {
      "cell_type": "code",
      "execution_count": null,
      "metadata": {
        "id": "_sH-wKr84Ggu"
      },
      "outputs": [],
      "source": [
        "X=diabetes_data.drop(columns='Outcome',axis=1)\n",
        "Y=diabetes_data['Outcome']"
      ]
    },
    {
      "cell_type": "code",
      "execution_count": null,
      "metadata": {
        "colab": {
          "base_uri": "https://localhost:8080/"
        },
        "id": "9HM7lGGq7kqE",
        "outputId": "84aaf3f6-b8b0-4d32-82c3-6339e7ccd441"
      },
      "outputs": [],
      "source": [
        "print(X)"
      ]
    },
    {
      "cell_type": "code",
      "execution_count": null,
      "metadata": {
        "colab": {
          "base_uri": "https://localhost:8080/"
        },
        "id": "K6S_v4NE7pxN",
        "outputId": "9b45fc2d-32b7-4804-9d88-2e78435045fb"
      },
      "outputs": [],
      "source": [
        "print(Y)"
      ]
    },
    {
      "cell_type": "code",
      "execution_count": null,
      "metadata": {
        "id": "O0YBIzSl7usD"
      },
      "outputs": [],
      "source": [
        "X_train,X_test,Y_train,Y_test=train_test_split(X,Y,test_size=0.2,stratify=Y,random_state=2)"
      ]
    },
    {
      "cell_type": "code",
      "execution_count": null,
      "metadata": {
        "colab": {
          "base_uri": "https://localhost:8080/"
        },
        "id": "WTUYTSNq74Ls",
        "outputId": "df3deffa-f1cb-4188-babc-6550cc3eb428"
      },
      "outputs": [],
      "source": [
        "print(X.shape, X_train.shape, X_test.shape)"
      ]
    },
    {
      "cell_type": "markdown",
      "metadata": {
        "id": "eq9r1cGJ8SOb"
      },
      "source": [
        "MODEL TRAINING"
      ]
    },
    {
      "cell_type": "code",
      "execution_count": null,
      "metadata": {
        "id": "CRdYZmAs8Fic"
      },
      "outputs": [],
      "source": [
        "model=LogisticRegression()"
      ]
    },
    {
      "cell_type": "code",
      "execution_count": null,
      "metadata": {
        "colab": {
          "base_uri": "https://localhost:8080/",
          "height": 223
        },
        "id": "POPmSrwd9lDk",
        "outputId": "eeaab1c3-0f72-4817-8ebe-bbfcf5b54283"
      },
      "outputs": [],
      "source": [
        "model.fit(X_train,Y_train)"
      ]
    },
    {
      "cell_type": "code",
      "execution_count": null,
      "metadata": {
        "id": "G-nB88uU-Ft7"
      },
      "outputs": [],
      "source": [
        "X_train_prediction=model.predict(X_train)\n",
        "training_data_accuracy= accuracy_score(X_train_prediction, Y_train)"
      ]
    },
    {
      "cell_type": "code",
      "execution_count": null,
      "metadata": {
        "colab": {
          "base_uri": "https://localhost:8080/"
        },
        "id": "0E4wsahd_zEt",
        "outputId": "758b0498-c818-4c92-e08a-856bf8fa8ac6"
      },
      "outputs": [],
      "source": [
        "print('Accuracy on Training data :',training_data_accuracy)"
      ]
    },
    {
      "cell_type": "code",
      "execution_count": null,
      "metadata": {
        "id": "xb2MjeJLAH4M"
      },
      "outputs": [],
      "source": [
        "X_test_prediction=model.predict(X_test)\n",
        "test_data_accuracy= accuracy_score(X_test_prediction, Y_test)"
      ]
    },
    {
      "cell_type": "code",
      "execution_count": null,
      "metadata": {
        "colab": {
          "base_uri": "https://localhost:8080/"
        },
        "id": "icWlxPS17G2j",
        "outputId": "583e5cde-a54b-4849-fcba-03a0cb806a50"
      },
      "outputs": [],
      "source": [
        "print('Accuracy on Test data :',test_data_accuracy)"
      ]
    },
    {
      "cell_type": "markdown",
      "metadata": {
        "id": "C0BYAcYi7uW5"
      },
      "source": [
        "Buliding SYSTEM"
      ]
    },
    {
      "cell_type": "code",
      "execution_count": null,
      "metadata": {
        "colab": {
          "base_uri": "https://localhost:8080/"
        },
        "id": "ptgRCtmH7cUg",
        "outputId": "60a03db9-a858-47a9-c1a4-6d55b4a90fcd"
      },
      "outputs": [],
      "source": [
        "import warnings\n",
        "warnings.filterwarnings(\"ignore\", category=UserWarning, module=\"sklearn\")\n",
        "\n",
        "input_data=(0,129,110,46,130,67.1,0.319,26)\n",
        "\n",
        "input_data_numpy= np.asarray(input_data)\n",
        "input_data_reshape=input_data_numpy.reshape(1,-1)\n",
        "prediction=model.predict(input_data_reshape)\n",
        "\n",
        "if(prediction[0]==0):\n",
        "  print('You dose not have Diabetes')\n",
        "else:\n",
        "  print('You can have Diabetes')"
      ]
    },
    {
      "cell_type": "code",
      "execution_count": null,
      "metadata": {
        "id": "mI4nc1c19XHY"
      },
      "outputs": [],
      "source": [
        "from flask_ngrok import run_with_ngrok\n",
        "from flask import Flask, redirect, url_for, render_template\n",
        "\n",
        "app = Flask(__name__)\n",
        "run_with_ngrok(app)\n",
        "\n",
        "@app.route('/')\n",
        "def index():\n",
        "    return render_template('index.html')\n",
        "\n",
        "@app.route('/get_details')\n",
        "def get_details():\n",
        "    return render_template('index.html')\n",
        "\n",
        "if __name__ == '__main__':\n",
        "    app.run()\n"
      ]
    }
  ],
  "metadata": {
    "colab": {
      "authorship_tag": "ABX9TyPJP7B/JiXu3d1mPr3sBat3",
      "include_colab_link": true,
      "mount_file_id": "https://github.com/NadeeshFernando/APPO_SCH/blob/sec/Diabetes_prediction_system.ipynb",
      "provenance": []
    },
    "kernelspec": {
      "display_name": "Python 3",
      "language": "python",
      "name": "python3"
    },
    "language_info": {
      "codemirror_mode": {
        "name": "ipython",
        "version": 3
      },
      "file_extension": ".py",
      "mimetype": "text/x-python",
      "name": "python",
      "nbconvert_exporter": "python",
      "pygments_lexer": "ipython3",
      "version": "3.12.2"
    },
    "polyglot_notebook": {
      "kernelInfo": {
        "defaultKernelName": "csharp",
        "items": [
          {
            "aliases": [],
            "name": "csharp"
          }
        ]
      }
    }
  },
  "nbformat": 4,
  "nbformat_minor": 0
}
