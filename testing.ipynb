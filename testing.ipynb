{
  "cells": [
    {
      "cell_type": "code",
      "execution_count": null,
      "metadata": {
        "id": "GMXmzsxxzj7i"
      },
      "outputs": [],
      "source": [
        "import numpy as np\n",
        "import pandas as pd\n",
        "from sklearn.model_selection import train_test_split\n",
        "from sklearn.linear_model import LogisticRegression\n",
        "from sklearn.metrics import accuracy_score"
      ]
    },
    {
      "cell_type": "code",
      "execution_count": null,
      "metadata": {
        "colab": {
          "base_uri": "https://localhost:8080/"
        },
        "id": "Nf2PjUP_1SRa",
        "outputId": "25f324f1-f0a2-4ef8-cdf1-976a345ff437"
      },
      "outputs": [],
      "source": [
        "file_path=('D:\\Campus\\ICBT_COMPUTER\\FINAL_PROJECT\\Diabetes Prediction using machine learning-FINAL PROJECT\\Project\\diabetes.csv')\n",
        "diabetes_data=pd.read_csv(file_path)"
      ]
    },
    {
      "cell_type": "code",
      "execution_count": null,
      "metadata": {
        "colab": {
          "base_uri": "https://localhost:8080/"
        },
        "id": "nT1JpLZa1s1e",
        "outputId": "53cfb98d-e38d-45ce-b575-0115c1e4e799"
      },
      "outputs": [],
      "source": [
        "diabetes_data.info()"
      ]
    },
    {
      "cell_type": "code",
      "execution_count": null,
      "metadata": {
        "colab": {
          "base_uri": "https://localhost:8080/"
        },
        "id": "J6uRTi6W18T-",
        "outputId": "fee700c7-3d4f-4507-cd7a-41443f1714f9"
      },
      "outputs": [],
      "source": [
        "diabetes_data.isnull().sum()"
      ]
    },
    {
      "cell_type": "code",
      "execution_count": null,
      "metadata": {
        "colab": {
          "base_uri": "https://localhost:8080/",
          "height": 300
        },
        "id": "phTo31NT3I9O",
        "outputId": "9c10dbac-5dbc-4509-b198-bfa397fd6a1b"
      },
      "outputs": [],
      "source": [
        "diabetes_data.describe()"
      ]
    },
    {
      "cell_type": "code",
      "execution_count": null,
      "metadata": {
        "colab": {
          "base_uri": "https://localhost:8080/"
        },
        "id": "HaOSzTBN3cnu",
        "outputId": "e9c623c4-e1e2-4eb3-d4fb-80f80e7c413e"
      },
      "outputs": [],
      "source": [
        "diabetes_data['Outcome'].value_counts()"
      ]
    },
    {
      "cell_type": "code",
      "execution_count": null,
      "metadata": {
        "id": "_sH-wKr84Ggu"
      },
      "outputs": [],
      "source": [
        "X=diabetes_data.drop(columns='Outcome',axis=1)\n",
        "Y=diabetes_data['Outcome']"
      ]
    },
    {
      "cell_type": "code",
      "execution_count": null,
      "metadata": {
        "colab": {
          "base_uri": "https://localhost:8080/"
        },
        "id": "9HM7lGGq7kqE",
        "outputId": "84aaf3f6-b8b0-4d32-82c3-6339e7ccd441"
      },
      "outputs": [],
      "source": [
        "print(X)"
      ]
    },
    {
      "cell_type": "code",
      "execution_count": null,
      "metadata": {
        "colab": {
          "base_uri": "https://localhost:8080/"
        },
        "id": "K6S_v4NE7pxN",
        "outputId": "9b45fc2d-32b7-4804-9d88-2e78435045fb"
      },
      "outputs": [],
      "source": [
        "print(Y)"
      ]
    },
    {
      "cell_type": "code",
      "execution_count": null,
      "metadata": {
        "id": "O0YBIzSl7usD"
      },
      "outputs": [],
      "source": [
        "X_train,X_test,Y_train,Y_test=train_test_split(X,Y,test_size=0.2,stratify=Y,random_state=2)"
      ]
    },
    {
      "cell_type": "code",
      "execution_count": null,
      "metadata": {
        "colab": {
          "base_uri": "https://localhost:8080/"
        },
        "id": "WTUYTSNq74Ls",
        "outputId": "df3deffa-f1cb-4188-babc-6550cc3eb428"
      },
      "outputs": [],
      "source": [
        "print(X.shape, X_train.shape, X_test.shape)"
      ]
    },
    {
      "cell_type": "markdown",
      "metadata": {
        "id": "eq9r1cGJ8SOb"
      },
      "source": [
        "MODEL TRAINING"
      ]
    },
    {
      "cell_type": "code",
      "execution_count": null,
      "metadata": {
        "colab": {
          "base_uri": "https://localhost:8080/",
          "height": 223
        },
        "id": "POPmSrwd9lDk",
        "outputId": "eeaab1c3-0f72-4817-8ebe-bbfcf5b54283"
      },
      "outputs": [],
      "source": [
        "model = LogisticRegression()\n",
        "model.fit(X_train, Y_train)\n"
      ]
    },
    {
      "cell_type": "code",
      "execution_count": null,
      "metadata": {
        "id": "G-nB88uU-Ft7"
      },
      "outputs": [],
      "source": [
        "X_train_prediction=model.predict(X_train)\n",
        "training_data_accuracy= accuracy_score(X_train_prediction, Y_train)"
      ]
    },
    {
      "cell_type": "code",
      "execution_count": null,
      "metadata": {
        "colab": {
          "base_uri": "https://localhost:8080/"
        },
        "id": "0E4wsahd_zEt",
        "outputId": "758b0498-c818-4c92-e08a-856bf8fa8ac6"
      },
      "outputs": [],
      "source": [
        "print('Accuracy on Training data :',training_data_accuracy)"
      ]
    },
    {
      "cell_type": "code",
      "execution_count": null,
      "metadata": {
        "id": "xb2MjeJLAH4M"
      },
      "outputs": [],
      "source": [
        "X_test_prediction=model.predict(X_test)\n",
        "test_data_accuracy= accuracy_score(X_test_prediction, Y_test)"
      ]
    },
    {
      "cell_type": "code",
      "execution_count": null,
      "metadata": {
        "colab": {
          "base_uri": "https://localhost:8080/"
        },
        "id": "icWlxPS17G2j",
        "outputId": "583e5cde-a54b-4849-fcba-03a0cb806a50"
      },
      "outputs": [],
      "source": [
        "print('Accuracy on Test data :',test_data_accuracy)"
      ]
    },
    {
      "cell_type": "code",
      "execution_count": null,
      "metadata": {},
      "outputs": [],
      "source": [
        "model"
      ]
    },
    {
      "cell_type": "code",
      "execution_count": null,
      "metadata": {},
      "outputs": [],
      "source": [
        "import pickle"
      ]
    },
    {
      "cell_type": "code",
      "execution_count": null,
      "metadata": {},
      "outputs": [],
      "source": [
        "pickle.dump(model,open('DIABETES_MODEL.pkl','wb'))"
      ]
    },
    {
      "cell_type": "code",
      "execution_count": null,
      "metadata": {},
      "outputs": [],
      "source": [
        "model_loaded = pickle.load(open('DIABETES_MODEL.pkl','rb'))"
      ]
    },
    {
      "cell_type": "code",
      "execution_count": null,
      "metadata": {},
      "outputs": [],
      "source": [
        "model_loaded"
      ]
    },
    {
      "cell_type": "code",
      "execution_count": null,
      "metadata": {},
      "outputs": [],
      "source": [
        "model.predict(X_test)"
      ]
    },
    {
      "cell_type": "code",
      "execution_count": null,
      "metadata": {},
      "outputs": [],
      "source": [
        "model =pickle.load(open(r'D:\\Campus\\ICBT_COMPUTER\\FINAL_PROJECT\\Diabetes Prediction using machine learning-FINAL PROJECT\\Project\\DIABETES_MODEL.pkl','rb'))"
      ]
    },
    {
      "cell_type": "code",
      "execution_count": null,
      "metadata": {},
      "outputs": [],
      "source": [
        "X_train.columns"
      ]
    },
    {
      "cell_type": "code",
      "execution_count": null,
      "metadata": {},
      "outputs": [],
      "source": [
        "from flask_ngrok import run_with_ngrok\n",
        "from flask import Flask, render_template, request\n",
        "\n",
        "app = Flask(__name__)\n",
        "run_with_ngrok(app)  # Start ngrok when the app is run\n",
        "\n",
        "@app.route('/')\n",
        "def index():\n",
        "    return render_template('index.html')\n",
        "\n",
        "@app.route('/getStart', methods=['POST'])\n",
        "def predict():\n",
        "    # Get input values from the form\n",
        "    pregnancies = int(request.form['pregnancies'])\n",
        "    glucose = int(request.form['glucose'])\n",
        "    blood_pressure = int(request.form['bloodPressure'])\n",
        "    skin_thickness = int(request.form['skinThickness'])\n",
        "    insulin = int(request.form['insulin'])\n",
        "    bmi = float(request.form['bmi'])\n",
        "    dpf = float(request.form['diabetesPedigreeFunction'])\n",
        "    age = int(request.form['age'])\n",
        "\n",
        "    # Make prediction (you might want to call the prediction function from your notebook)\n",
        "    prediction_result = model.predict([[pregnancies, glucose, blood_pressure, skin_thickness, insulin, bmi, dpf, age]])\n",
        "    \n",
        "    # Convert the prediction to a meaningful result (modify based on your specific use case)\n",
        "    if prediction_result[0] == 0:\n",
        "        prediction_result = 'You do not have Diabetes'\n",
        "    else:\n",
        "        prediction_result = 'You can have Diabetes'\n",
        "\n",
        "    return render_template('result.html', prediction_result=prediction_result)\n",
        "\n",
        "def predict_diabetes(pregnancies, glucose, blood_pressure, skin_thickness, insulin, bmi, dpf, age):\n",
        "    # Implement your prediction logic here\n",
        "    # Example: Use a machine learning model to predict diabetes\n",
        "    # Replace this with your actual prediction logic\n",
        "    prediction = 0\n",
        "    return prediction\n",
        "\n",
        "if __name__ == '__main__':\n",
        "    app.run()\n"
      ]
    }
  ],
  "metadata": {
    "colab": {
      "authorship_tag": "ABX9TyPJP7B/JiXu3d1mPr3sBat3",
      "include_colab_link": true,
      "mount_file_id": "https://github.com/NadeeshFernando/APPO_SCH/blob/sec/Diabetes_prediction_system.ipynb",
      "provenance": []
    },
    "kernelspec": {
      "display_name": "Python 3",
      "name": "python3"
    },
    "language_info": {
      "codemirror_mode": {
        "name": "ipython",
        "version": 3
      },
      "file_extension": ".py",
      "mimetype": "text/x-python",
      "name": "python",
      "nbconvert_exporter": "python",
      "pygments_lexer": "ipython3",
      "version": "3.12.3"
    }
  },
  "nbformat": 4,
  "nbformat_minor": 0
}
